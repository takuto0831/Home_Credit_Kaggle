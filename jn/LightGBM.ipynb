{
 "cells": [
  {
   "cell_type": "markdown",
   "metadata": {},
   "source": [
    "## Home Credit competition\n",
    "\n",
    "- 他のチームの結果を参考に, LightGBMの使い方, pythonコードの作成方法についてまとめる\n",
    "- コメント文など適宜追加する"
   ]
  },
  {
   "cell_type": "markdown",
   "metadata": {},
   "source": [
    "## References\n",
    "\n",
    "- [Kaggle:How to LightGBM with lightgbm.cv](https://www.kaggle.com/shep312/lightgbm-harder-better-slower/code)\n",
    "- [Python API](https://lightgbm.readthedocs.io/en/latest/Python-API.html)\n",
    "- [roc auc score](http://scikit-learn.org/stable/modules/generated/sklearn.metrics.roc_auc_score.html0)\n",
    "- [1st place solution](https://www.kaggle.com/c/home-credit-default-risk/discussion/64821)\n",
    "- [2nd place solution](https://www.kaggle.com/c/home-credit-default-risk/discussion/64722)"
   ]
  },
  {
   "cell_type": "markdown",
   "metadata": {},
   "source": [
    "## winner session summary\n",
    "\n"
   ]
  },
  {
   "cell_type": "code",
   "execution_count": 1,
   "metadata": {},
   "outputs": [
    {
     "name": "stdout",
     "output_type": "stream",
     "text": [
      "0\n"
     ]
    }
   ],
   "source": [
    "# import module\n",
    "import gc, os, sys, warnings,time\n",
    "import requests\n",
    "from tqdm import tqdm\n",
    "import pandas as pd\n",
    "import numpy as np\n",
    "import lightgbm as lgb\n",
    "from lightgbm import LGBMClassifier\n",
    "import matplotlib.pyplot as plt\n",
    "import seaborn as sns\n",
    "from contextlib import contextmanager\n",
    "from multiprocessing import cpu_count, Pool\n",
    "from collections import defaultdict\n",
    "from glob import glob\n",
    "from sklearn.metrics import roc_auc_score, roc_curve\n",
    "from sklearn.model_selection import KFold, StratifiedKFold, GroupKFold\n",
    "\n",
    "# set path\n",
    "sys.path.append(\"/Users/takuto/Desktop/Home_Credit_Kaggle/py/\") # for macbook\n",
    "sys.path.append(\"/Users/takutokotsubo/Desktop/Home_Credit_Kaggle/py/\") # for imac"
   ]
  },
  {
   "cell_type": "markdown",
   "metadata": {},
   "source": [
    "## function\n",
    "\n",
    "- @contextmanager: with文を用いて簡単に実行時間を計測できる関数を作成できる\n",
    "- one-hot: デジタル回路において, 1つだけ\"1\"の値をとり, 他の全ての値が\"0\"であるようなビット列, ダミー変数化では0,1の値を用いて区別するので少し意味合いが違うことに注意\n",
    "- gc.collect(): del -> gc.collect()でメモリを開放でできる"
   ]
  },
  {
   "cell_type": "code",
   "execution_count": 2,
   "metadata": {},
   "outputs": [],
   "source": [
    "# Execution time measuring\n",
    "@contextmanager\n",
    "def timer(title):\n",
    "    t0 = time.time()\n",
    "    yield print(\"{} - done in {:.0f}s\".format(title, time.time() - t0))\n",
    "    \n",
    "# One-hot encoding for categorical columns with get_dummies\n",
    "def one_hot_encoder(df, nan_as_category = True):\n",
    "    original_columns = list(df.columns)\n",
    "    categorical_columns = [col for col in df.columns if df[col].dtype == \"object\"]\n",
    "    df = pd.get_dummies(df, columns = categorical_columns, dummy_na = nan_as_category)\n",
    "    new_columns = [c for c in df.columns if c not in original_columns]\n",
    "    return df,new_columns\n",
    "\n",
    "# preprocess all data\n",
    "def read_all_data(num_rows = None, nan_as_category = False):\n",
    "    df = pd.read_csv(\"../csv_imp/all_data_train.csv\", nrows = num_rows)\n",
    "    test = pd.read_csv(\"../csv_imp/all_data_test.csv\", nrows = num_rows)\n",
    "    df = df.append(test).reset_index()\n",
    "    # Categorical features with Binary encode (0 or 1; two categories)\n",
    "    for bin_feature in ['CODE_GENDER', 'FLAG_OWN_CAR', 'FLAG_OWN_REALTY']:\n",
    "        df[bin_feature], uniques = pd.factorize(df[bin_feature])\n",
    "    # Categorical features with One-Hot encode\n",
    "    df, cat_cols = one_hot_encoder(df, nan_as_category)\n",
    "    del test\n",
    "    gc.collect()\n",
    "    return df\n",
    "\n",
    "# LightGBM with kfold or Stratified kfold\n",
    "def kfold_lightgbm(df, num_folds, stratified = False, debug = False):\n",
    "    train_df = df[df[\"TARGET\"].notnull()]\n",
    "    test_df = df[df[\"TARGET\"].isnull()]\n",
    "    print(\"Starting Light GBM. Train shape: {}, test shape: {}\".format(train_df.shape, test_df.shape))\n",
    "    del df\n",
    "    gc.collect()\n",
    "    \n",
    "    # cross validation model\n",
    "    if stratified:\n",
    "        folds = StratifiedKFold(n_splits = num_folds, shuffle=True, random_state= 831)\n",
    "    else:\n",
    "        folds = KFold(n_splits = num_folds, shuffle=True, random_state=831)\n",
    "        \n",
    "    # Create arrays and dataframes\n",
    "    oof_preds = np.zeros(train_df.shape[0])\n",
    "    sub_preds = np.zeros(test_df.shape[0])\n",
    "    feature_importance_df = pd.DataFrame()\n",
    "    feats = [f for f in train_df.columns if f not in [\"TARGET\",\"SK_ID_CURR\",\"SK_ID_BUREAU\",\"SK_ID_PREV\",\"index\"]]\n",
    "    \n",
    "    # kfold\n",
    "    for n_fold, (train_idx, valid_idx) in enumerate(folds.split(train_df[feats],train_df[\"TARGET\"])):\n",
    "        train_x, train_y = train_df[feats].iloc[train_idx], train_df[\"TARGET\"].iloc[train_idx]\n",
    "        valid_x, valid_y = train_df[feats].iloc[valid_idx], train_df[\"TARGET\"].iloc[valid_idx]\n",
    "        \n",
    "        # LightGBM parameters \n",
    "        clf = LGBMClassifier(\n",
    "            learning_rate = 0.01,\n",
    "            max_depth = 6,\n",
    "            num_leaves = 63,\n",
    "            max_bin = 255,\n",
    "            min_child_weight = 10,\n",
    "            min_data_in_leaf = 150,\n",
    "            reg_lambda = 0.5,  # L2 regularization term on weights.\n",
    "            reg_alpha = 0.5,  # L1 regularization term on weights.\n",
    "            colsample_bytree = 0.9,\n",
    "            subsample = 0.9,\n",
    "            nthread = cpu_count(), # max thread\n",
    "            silent = -1, \n",
    "            verbose = -1,\n",
    "        )\n",
    "        clf.fit(train_x,train_y,eval_set=[(train_x,train_y), (valid_x,valid_y)],\n",
    "                eval_metric = 'auc',verbose=100,early_stopping_rounds= 200)\n",
    "        oof_preds[valid_idx] = clf.predict_proba(valid_x, num_iteration=clf.best_iteration_)[:, 1]\n",
    "        sub_preds += clf.predict_proba(test_df[feats], num_iteration=clf.best_iteration_)[:, 1] / folds.n_splits\n",
    "        fold_importance_df = pd.DataFrame()\n",
    "        fold_importance_df[\"feature\"] = feats\n",
    "        fold_importance_df[\"importance\"] = clf.feature_importances_\n",
    "        fold_importance_df[\"fold\"] = n_fold + 1\n",
    "        feature_importance_df = pd.concat([feature_importance_df, fold_importance_df], axis=0)\n",
    "        print('Fold %2d AUC : %.6f' % (n_fold + 1, roc_auc_score(valid_y, oof_preds[valid_idx])))\n",
    "        del clf, train_x, train_y, valid_x, valid_y\n",
    "        gc.collect()\n",
    "        \n",
    "        print('Full AUC score %.6f' % roc_auc_score(train_df['TARGET'], oof_preds))\n",
    "        # Write submission file and plot feature importance\n",
    "        if not debug:\n",
    "            test_df['TARGET'] = sub_preds\n",
    "            test_df = test_df.astype({\"SK_ID_CURR\":int}) # change dtypes\n",
    "            test_df[['SK_ID_CURR', 'TARGET']].to_csv(\"../submit/\" + submission_file_name, index= False)\n",
    "        display_importances(feature_importance_df)\n",
    "        return feature_importance_df\n",
    "\n",
    "# LightGBM with cv by onodera\n",
    "def cv_lightgbm(df, num_folds, NFOLD, LOOP, debug = False):\n",
    "    # parameters\n",
    "    param = {\n",
    "         'objective': 'binary',\n",
    "         'metric': 'auc',\n",
    "         'learning_rate': 0.01,\n",
    "         'max_depth': 6,\n",
    "         'num_leaves': 63,\n",
    "         'max_bin': 255,\n",
    "         \n",
    "         'min_child_weight': 10,\n",
    "         'min_data_in_leaf': 150,\n",
    "         'reg_lambda': 0.5,  # L2 regularization term on weights.\n",
    "         'reg_alpha': 0.5,  # L1 regularization term on weights.\n",
    "         \n",
    "         'colsample_bytree': 0.9,\n",
    "         'subsample': 0.9,\n",
    "         'nthread': cpu_count(),\n",
    "         'bagging_freq': 1,\n",
    "         'verbose':-1,\n",
    "         }\n",
    "    train_df = df[df[\"TARGET\"].notnull()]\n",
    "    test_df = df[df[\"TARGET\"].isnull()]\n",
    "    print(\"Starting Light GBM. Train shape: {}, test shape: {}\".format(train_df.shape, test_df.shape))\n",
    "    del df; gc.collect()\n",
    "    # non list\n",
    "    feats = [f for f in train_df.columns if f not in [\"TARGET\",\"SK_ID_CURR\",\"SK_ID_BUREAU\",\"SK_ID_PREV\",\"index\"]]\n",
    "    train_x, train_y, test_X = train_df[feats], train_df[\"TARGET\"], test_df[feats]      \n",
    "    dtrain = lgb.Dataset(train_x,train_y)\n",
    "    gc.collect()\n",
    "    # result box\n",
    "    model_all = []\n",
    "    y_pred = pd.Series(0, index=train_y.index)\n",
    "    \n",
    "    # training with cv\n",
    "    for i in range(LOOP):\n",
    "        gc.collect()\n",
    "        ret, models = lgb.cv(param, dtrain, 9999, nfold=NFOLD,\n",
    "                             early_stopping_rounds=100, verbose_eval=50, seed=i)\n",
    "        model_all += models\n",
    "        \n",
    "# Display/plot feature importance\n",
    "def display_importances(feature_importance_df_):\n",
    "    cols = feature_importance_df_[[\"feature\", \"importance\"]].groupby(\"feature\").mean().sort_values(by=\"importance\", ascending=False)[:40].index\n",
    "    best_features = feature_importance_df_.loc[feature_importance_df_.feature.isin(cols)]\n",
    "    plt.figure(figsize=(8, 10))\n",
    "    sns.barplot(x=\"importance\", y=\"feature\", data=best_features.sort_values(by=\"importance\", ascending=False))\n",
    "    plt.title('LightGBM Features (avg over folds)')\n",
    "    plt.tight_layout()\n",
    "    # plt.savefig('lgbm_importances01.png')\n",
    "\n",
    "# send message to line\n",
    "def send_line(message):\n",
    "    \n",
    "    line_notify_token = '5p5sPTY7PrQaB8Wnwp6aadfiqC8m2zh6Q8llrfNisGT'\n",
    "    line_notify_api = 'https://notify-api.line.me/api/notify'\n",
    "    \n",
    "    payload = {'message': message}\n",
    "    headers = {'Authorization': 'Bearer ' + line_notify_token}\n",
    "    requests.post(line_notify_api, data=payload, headers=headers)\n",
    "\n",
    "# main \n",
    "def main(debug = False):\n",
    "    num_rows = 100000 if debug else None # for debug\n",
    "    df = read_all_data(num_rows)\n",
    "    with timer(\"Run LightGBM with kfold\"):\n",
    "        feat_importance = kfold_lightgbm(df, num_folds= 5, stratified= False, debug= debug)"
   ]
  },
  {
   "cell_type": "markdown",
   "metadata": {},
   "source": [
    "## Main"
   ]
  },
  {
   "cell_type": "code",
   "execution_count": 66,
   "metadata": {},
   "outputs": [
    {
     "name": "stdout",
     "output_type": "stream",
     "text": [
      "Full model run - done in 0s\n",
      "Run LightGBM with kfold - done in 0s\n",
      "Starting Light GBM. Train shape: (307511, 1309), test shape: (48744, 1309)\n",
      "Training until validation scores don't improve for 200 rounds.\n",
      "[100]\ttraining's auc: 0.773855\tvalid_1's auc: 0.744432\n",
      "Did not meet early stopping. Best iteration is:\n",
      "[100]\ttraining's auc: 0.773855\tvalid_1's auc: 0.744432\n",
      "Fold  1 AUC : 0.744432\n",
      "Full AUC score 0.512573\n"
     ]
    },
    {
     "name": "stderr",
     "output_type": "stream",
     "text": [
      "/Users/takutokotsubo/.pyenv/versions/anaconda3-5.1.0/envs/py3.6.5/lib/python3.6/site-packages/ipykernel_launcher.py:86: SettingWithCopyWarning: \n",
      "A value is trying to be set on a copy of a slice from a DataFrame.\n",
      "Try using .loc[row_indexer,col_indexer] = value instead\n",
      "\n",
      "See the caveats in the documentation: http://pandas.pydata.org/pandas-docs/stable/indexing.html#indexing-view-versus-copy\n"
     ]
    },
    {
     "data": {
      "image/png": "[encoded data removed]",
      "text/plain": [
       "<Figure size 576x720 with 1 Axes>"
      ]
     },
     "metadata": {},
     "output_type": "display_data"
    }
   ],
   "source": [
    "if __name__ == \"__main__\":\n",
    "    submission_file_name = \"submission_lightgbm_test.csv\"\n",
    "    with timer(\"Full model run\"):\n",
    "        main(debug=False)"
   ]
  },
  {
   "cell_type": "markdown",
   "metadata": {},
   "source": [
    "## Light GBM cross validation"
   ]
  },
  {
   "cell_type": "code",
   "execution_count": 3,
   "metadata": {},
   "outputs": [],
   "source": [
    "LOOP = 1\n",
    "NFOLD = 4 # good set: 7\n",
    "num_rows = 100000 # good set: FALSE"
   ]
  },
  {
   "cell_type": "code",
   "execution_count": 4,
   "metadata": {},
   "outputs": [
    {
     "name": "stdout",
     "output_type": "stream",
     "text": [
      "Starting Light GBM. Train shape: (100000, 1249), test shape: (48744, 1249)\n",
      "[50]\tcv_agg's auc: 0.739865 + 0.00530914\n",
      "[100]\tcv_agg's auc: 0.748384 + 0.00492817\n",
      "[150]\tcv_agg's auc: 0.755235 + 0.0051312\n",
      "[200]\tcv_agg's auc: 0.760772 + 0.00515155\n",
      "[250]\tcv_agg's auc: 0.765231 + 0.00518327\n",
      "[300]\tcv_agg's auc: 0.768735 + 0.00514554\n",
      "[350]\tcv_agg's auc: 0.771354 + 0.00501918\n",
      "[400]\tcv_agg's auc: 0.773395 + 0.00499893\n",
      "[450]\tcv_agg's auc: 0.774978 + 0.00491874\n",
      "[500]\tcv_agg's auc: 0.776176 + 0.00480619\n",
      "[550]\tcv_agg's auc: 0.777201 + 0.00473125\n",
      "[600]\tcv_agg's auc: 0.778139 + 0.00482851\n",
      "[650]\tcv_agg's auc: 0.778704 + 0.00479878\n",
      "[700]\tcv_agg's auc: 0.779226 + 0.0047764\n",
      "[750]\tcv_agg's auc: 0.779701 + 0.00472962\n",
      "[800]\tcv_agg's auc: 0.780142 + 0.00475922\n",
      "[850]\tcv_agg's auc: 0.780472 + 0.00484431\n",
      "[900]\tcv_agg's auc: 0.78072 + 0.00482255\n",
      "[950]\tcv_agg's auc: 0.781038 + 0.00483704\n",
      "[1000]\tcv_agg's auc: 0.781262 + 0.0048973\n",
      "[1050]\tcv_agg's auc: 0.781368 + 0.00495173\n",
      "[1100]\tcv_agg's auc: 0.78157 + 0.00491519\n",
      "[1150]\tcv_agg's auc: 0.781656 + 0.00487246\n",
      "[1200]\tcv_agg's auc: 0.781877 + 0.00496968\n",
      "[1250]\tcv_agg's auc: 0.781986 + 0.00498842\n",
      "[1300]\tcv_agg's auc: 0.782009 + 0.00501814\n",
      "[1350]\tcv_agg's auc: 0.782094 + 0.00496326\n",
      "[1400]\tcv_agg's auc: 0.782123 + 0.00500099\n",
      "[1450]\tcv_agg's auc: 0.782189 + 0.00497837\n",
      "[1500]\tcv_agg's auc: 0.782252 + 0.00495175\n",
      "[1550]\tcv_agg's auc: 0.782271 + 0.00500711\n",
      "[1600]\tcv_agg's auc: 0.782317 + 0.0049045\n",
      "[1650]\tcv_agg's auc: 0.782318 + 0.00488553\n",
      "[1700]\tcv_agg's auc: 0.782323 + 0.00491063\n",
      "[1750]\tcv_agg's auc: 0.782306 + 0.0048669\n"
     ]
    },
    {
     "ename": "NameError",
     "evalue": "name 'models' is not defined",
     "output_type": "error",
     "traceback": [
      "\u001b[0;31m---------------------------------------------------------------------------\u001b[0m",
      "\u001b[0;31mNameError\u001b[0m                                 Traceback (most recent call last)",
      "\u001b[0;32m<ipython-input-4-7baec55b3faf>\u001b[0m in \u001b[0;36m<module>\u001b[0;34m()\u001b[0m\n\u001b[1;32m     39\u001b[0m     models_cv = lgb.cv(param, dtrain, 9999, nfold=NFOLD,\n\u001b[1;32m     40\u001b[0m                        early_stopping_rounds=100, verbose_eval=50, seed=i)\n\u001b[0;32m---> 41\u001b[0;31m     \u001b[0mprint\u001b[0m\u001b[0;34m(\u001b[0m\u001b[0;34m\"best n_estimator\"\u001b[0m\u001b[0;34m,\u001b[0m \u001b[0mlen\u001b[0m\u001b[0;34m(\u001b[0m\u001b[0mmodels\u001b[0m\u001b[0;34m[\u001b[0m\u001b[0;34m\"auc-mean\"\u001b[0m\u001b[0;34m]\u001b[0m\u001b[0;34m)\u001b[0m\u001b[0;34m)\u001b[0m \u001b[0;31m# best iteration\u001b[0m\u001b[0;34m\u001b[0m\u001b[0m\n\u001b[0m\u001b[1;32m     42\u001b[0m     \u001b[0mprint\u001b[0m\u001b[0;34m(\u001b[0m\u001b[0;34m\"best cv score\"\u001b[0m\u001b[0;34m,\u001b[0m \u001b[0mmodels\u001b[0m\u001b[0;34m[\u001b[0m\u001b[0;34m\"auc-mean\"\u001b[0m\u001b[0;34m]\u001b[0m\u001b[0;34m[\u001b[0m\u001b[0;34m-\u001b[0m\u001b[0;36m1\u001b[0m\u001b[0;34m]\u001b[0m\u001b[0;34m)\u001b[0m \u001b[0;31m# best cv score\u001b[0m\u001b[0;34m\u001b[0m\u001b[0m\n\u001b[1;32m     43\u001b[0m     \u001b[0;31m# execute model\u001b[0m\u001b[0;34m\u001b[0m\u001b[0;34m\u001b[0m\u001b[0m\n",
      "\u001b[0;31mNameError\u001b[0m: name 'models' is not defined"
     ]
    }
   ],
   "source": [
    "# parameters\n",
    "param = {\n",
    "    'objective': 'binary',\n",
    "    'metric': 'auc',\n",
    "    'learning_rate': 0.01,\n",
    "    'max_depth': 6,\n",
    "    'num_leaves': 63,\n",
    "    'max_bin': 255,\n",
    "    \n",
    "    'min_child_weight': 10,\n",
    "    'min_data_in_leaf': 150,\n",
    "    'reg_lambda': 0.5,  # L2 regularization term on weights.\n",
    "    'reg_alpha': 0.5,  # L1 regularization term on weights.\n",
    "         \n",
    "    'colsample_bytree': 0.9,\n",
    "    'subsample': 0.9,\n",
    "    'nthread': cpu_count(),\n",
    "    'bagging_freq': 1,\n",
    "    'verbose':-1,\n",
    "}\n",
    "df = read_all_data(num_rows)\n",
    "train_df = df[df[\"TARGET\"].notnull()]\n",
    "test_df = df[df[\"TARGET\"].isnull()]\n",
    "\n",
    "del df; gc.collect()\n",
    "# non list\n",
    "feats = [f for f in train_df.columns if f not in [\"TARGET\",\"SK_ID_CURR\",\"SK_ID_BUREAU\",\"SK_ID_PREV\",\"index\"]]\n",
    "X_train, y_train, X_test = train_df[feats], train_df[\"TARGET\"], test_df[feats]      \n",
    "dtrain = lgb.Dataset(X_train,y_train,free_raw_data=False)\n",
    "gc.collect()\n",
    "# result box\n",
    "model_all = []\n",
    "y_pred = pd.Series(0, index=y_train.index)\n",
    "    \n",
    "# training with cv\n",
    "for i in range(LOOP):\n",
    "    gc.collect()\n",
    "    # cross validation\n",
    "    print(\"Starting Light GBM {}-fold cross varidation. Train shape: {}, test shape: {}\"\n",
    "          .format(NFOLD, train_df.shape, test_df.shape))\n",
    "    models_cv = lgb.cv(param, dtrain, 9999, nfold=NFOLD,\n",
    "                       early_stopping_rounds=100, verbose_eval=50, seed=i)\n",
    "    print(\"best n_estimator\", len(models_cv[\"auc-mean\"])) # best iteration\n",
    "    print(\"best cv score\", models_cv[\"auc-mean\"][-1]) # best cv score\n",
    "    # execute model\n",
    "    print(\"Starting Light GBM Training. Train shape: {}, test shape: {}, best iter: {}\"\n",
    "          .format(train_df.shape, test_df.shape, len(models_cv[\"auc-mean\"])))\n",
    "    models_train = lgb.train(param,dtrain,num_boost_round=len(models_cv[\"auc-mean\"]))\n",
    "    # predict target (model.best_iteration??)\n",
    "    print(\"Starting Light GBM Predict. Train shape: {}, test shape: {}, num iter: {}\"\n",
    "          .format(train_df.shape, test_df.shape, model.best_iteration))\n",
    "    pred_train = models_train.predict(train_x)\n",
    "    \n",
    "    # roc_auc score\n",
    "    auc_mean = roc_auc_score(train_y,pred_train)\n",
    "    print(f\"CV auc-mean(loop {i}): {auc_mean} {models['auc-mean'][-1]}\")\n",
    "    \n",
    "    #model_all += models"
   ]
  },
  {
   "cell_type": "code",
   "execution_count": 5,
   "metadata": {},
   "outputs": [
    {
     "name": "stdout",
     "output_type": "stream",
     "text": [
      "best n_estimator 1672\n",
      "best cv score 0.7823590127147184\n"
     ]
    }
   ],
   "source": [
    "print(\"best n_estimator\", len(models_cv[\"auc-mean\"])) # best iteration\n",
    "print(\"best cv score\", models_cv[\"auc-mean\"][-1]) # best cv score"
   ]
  },
  {
   "cell_type": "code",
   "execution_count": 11,
   "metadata": {},
   "outputs": [
    {
     "name": "stdout",
     "output_type": "stream",
     "text": [
      "Starting Light GBM Training. Train shape: (100000, 1249), test shape: (48744, 1249), best iter: 1672\n"
     ]
    }
   ],
   "source": [
    "print(\"Starting Light GBM Training. Train shape: {}, test shape: {}, best iter: {}\"\n",
    "      .format(train_df.shape, test_df.shape, len(models_cv[\"auc-mean\"])))\n",
    "models_train = lgb.train(param,dtrain,num_boost_round=len(models_cv[\"auc-mean\"]),verbose_eval=50)\n"
   ]
  },
  {
   "cell_type": "code",
   "execution_count": 20,
   "metadata": {},
   "outputs": [],
   "source": [
    "models_train = lgb.train(param,dtrain,num_boost_round=len(models_cv[\"auc-mean\"]))"
   ]
  },
  {
   "cell_type": "code",
   "execution_count": 27,
   "metadata": {},
   "outputs": [
    {
     "data": {
      "text/plain": [
       "0"
      ]
     },
     "execution_count": 27,
     "metadata": {},
     "output_type": "execute_result"
    }
   ],
   "source": [
    "models_train.best_iteration"
   ]
  }
 ],
 "metadata": {
  "kernelspec": {
   "display_name": "Python 3",
   "language": "python",
   "name": "python3"
  },
  "language_info": {
   "codemirror_mode": {
    "name": "ipython",
    "version": 3
   },
   "file_extension": ".py",
   "mimetype": "text/x-python",
   "name": "python",
   "nbconvert_exporter": "python",
   "pygments_lexer": "ipython3",
   "version": "3.6.5"
  },
  "toc": {
   "base_numbering": 1,
   "nav_menu": {},
   "number_sections": true,
   "sideBar": true,
   "skip_h1_title": false,
   "title_cell": "Table of Contents",
   "title_sidebar": "Contents",
   "toc_cell": false,
   "toc_position": {},
   "toc_section_display": true,
   "toc_window_display": false
  }
 },
 "nbformat": 4,
 "nbformat_minor": 2
}
